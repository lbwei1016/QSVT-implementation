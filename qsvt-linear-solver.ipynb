{
 "cells": [
  {
   "cell_type": "markdown",
   "metadata": {},
   "source": [
    "### QSVT for solving Quantum Linear System Problem (QLSP)\n",
    "\n",
    "> Please read [A Grand Unification of Quantum Algorithms](https://arxiv.org/abs/2105.02859) and watch [Isaac Chuang - Grand unification of quantum algorithms](https://www.youtube.com/watch?v=GFRojXdrVXI&t=1500s) for more information!\n",
    "\n",
    "The normalized state\n",
    "\n",
    "$$\n",
    "A^{-1}|b\\rangle / \\|A^{-1}|b\\rangle\\|\n",
    "$$\n",
    "\n",
    "is the outcome of measurement with probability\n",
    "\n",
    "$$\n",
    "\\| {1\\over 2\\kappa}A^{-1}|b\\rangle\\|^2,\n",
    "$$\n",
    "\n",
    "where $\\kappa$ is the condition number of $A$ (under ideal circumstances)."
   ]
  },
  {
   "cell_type": "code",
   "execution_count": 29,
   "metadata": {},
   "outputs": [],
   "source": [
    "from qiskit.quantum_info import Statevector\n",
    "from qsvt.algorithms import linear_solver\n",
    "from qsvt.helper import circulant_matrix, random_matrix\n",
    "import numpy as np\n",
    "\n",
    "import time\n",
    "\n",
    "# matrix size exponent\n",
    "N = 2"
   ]
  },
  {
   "cell_type": "code",
   "execution_count": 30,
   "metadata": {},
   "outputs": [
    {
     "name": "stdout",
     "output_type": "stream",
     "text": [
      "[[-0.19334178  0.26443878 -0.96035612 -0.61790896]\n",
      " [-0.38791265 -0.10127245  0.28090124  0.57864991]\n",
      " [-0.8486602  -0.40726739  0.85394091 -0.25492834]\n",
      " [ 0.19486207  0.91667583 -0.19341271  0.95123747]]\n"
     ]
    }
   ],
   "source": [
    "# Generate a random circulant matrix.\n",
    "# A = circulant_matrix(N)\n",
    "A = random_matrix(N)\n",
    "print(A)"
   ]
  },
  {
   "cell_type": "code",
   "execution_count": 31,
   "metadata": {},
   "outputs": [],
   "source": [
    "# A = np.array([\n",
    "#     [1, -1/3],\n",
    "#     [-1/3, 1]\n",
    "# ])\n",
    "\n",
    "# A = np.array([\n",
    "#      [1, 2, 3, 4],\n",
    "#      [4, 1, 2, 3],\n",
    "#      [3, 4, 1, 2],\n",
    "#      [2, 3, 4, 1]]\n",
    "# , dtype=float)\n",
    "\n",
    "# A = np.array([\n",
    "#     [1, 2, 3, 4, 5, 6, 7, 8],\n",
    "#     [2, 3, 4, 5, 6, 7, 8, 1],\n",
    "#     [3, 4, 5, 6, 7, 8, 1, 2],\n",
    "#     [4, 5, 6, 7, 8, 1, 2, 3],\n",
    "#     [5, 6, 7, 8, 1, 2, 3, 4],\n",
    "#     [6, 7, 8, 1, 2, 3, 4, 5],\n",
    "#     [7, 8, 1, 2, 3, 4, 5, 6],\n",
    "#     [8, 1, 2, 3, 4, 5, 6, 7]\n",
    "# ], dtype=float)"
   ]
  },
  {
   "cell_type": "code",
   "execution_count": 32,
   "metadata": {},
   "outputs": [
    {
     "name": "stdout",
     "output_type": "stream",
     "text": [
      "deg: 121\n",
      "prepare circuit spends: 0.009610891342163086 sec\n"
     ]
    }
   ],
   "source": [
    "# normalize\n",
    "A_norm = np.linalg.norm(A)\n",
    "A /= A_norm\n",
    "\n",
    "# Calculating condition number is time-consuming for large matrices.\n",
    "# kappa = np.linalg.cond(A)\n",
    "# print(f'kappa: {kappa}')\n",
    "\n",
    "st = time.time()\n",
    "qc = linear_solver(A)\n",
    "# qc = linear_solver(A, set_degree=3)\n",
    "# qc = linear_solver(A, amplify='chebyshev')\n",
    "# qc = linear_solver(A, amplify='sign')\n",
    "# qc = linear_solver(A, amplify='AA')\n",
    "ed = time.time()\n",
    "print(f'prepare circuit spends: {ed - st} sec')\n",
    "\n",
    "# qc.draw('mpl')"
   ]
  },
  {
   "cell_type": "code",
   "execution_count": 33,
   "metadata": {},
   "outputs": [
    {
     "name": "stdout",
     "output_type": "stream",
     "text": [
      "prepare state snapshot spends: 0.04050922393798828 sec\n",
      "number of qubits: 4\n",
      "post-measurement state: Statevector([ 0.71071146+1.27807967e-17j, -0.13614058+2.15210285e-17j,\n",
      "              0.67899162+2.86839559e-17j,  0.12379558+2.06537765e-16j,\n",
      "              0.        +0.00000000e+00j,  0.        +0.00000000e+00j,\n",
      "              0.        +0.00000000e+00j,  0.        +0.00000000e+00j,\n",
      "              0.        +0.00000000e+00j,  0.        +0.00000000e+00j,\n",
      "              0.        +0.00000000e+00j,  0.        +0.00000000e+00j,\n",
      "              0.        +0.00000000e+00j,  0.        +0.00000000e+00j,\n",
      "              0.        +0.00000000e+00j,  0.        +0.00000000e+00j],\n",
      "            dims=(2, 2, 2, 2))\n",
      "post-selection spends: 0.010822534561157227 sec\n",
      "res: [-0.7111018   0.13606296 -0.67866311 -0.12344018]\n"
     ]
    }
   ],
   "source": [
    "st = time.time()\n",
    "state = Statevector(qc)\n",
    "ed = time.time()\n",
    "print(f'prepare state snapshot spends: {ed - st} sec')\n",
    "\n",
    "n = qc.num_qubits\n",
    "print(f'number of qubits: {n}')\n",
    "\n",
    "# for AA\n",
    "# measure_qubits = [n - 3, n - 2]\n",
    "# exp_outcome = \"00\"\n",
    "\n",
    "# for no AA\n",
    "measure_qubits = [n - 2, n - 1]\n",
    "exp_outcome = \"00\"\n",
    "\n",
    "# for no AA and no real_only\n",
    "# measure_qubits = [n - 1]\n",
    "# exp_outcome = \"0\"\n",
    "\n",
    "st = time.time()\n",
    "while True:\n",
    "    outcome, mstate = state.measure(measure_qubits)\n",
    "    if outcome == exp_outcome: break\n",
    "ed = time.time()\n",
    "print(f'post-measurement state: {mstate}')\n",
    "print(f'post-selection spends: {ed - st} sec')\n",
    "\n",
    "############## solve by singular values ################\n",
    "# fS = 1 / S\n",
    "# print(f'fS: {fS}')\n",
    "\n",
    "# fAd = np.conj(Vd.T) * fS @ np.conj(W.T) # A^\\dagger\n",
    "# print(f'fAd: {fAd}')\n",
    "\n",
    "\n",
    "# res = np.array(fAd[:, 0])\n",
    "########################################################\n",
    "\n",
    "# # for AA: 3 ancilla qubits\n",
    "# res = np.linalg.solve(A, np.array([1] + [0] * (2 ** (n - 3) - 1)))\n",
    "\n",
    "# for no AA: 2 ancilla qubits\n",
    "res = np.linalg.solve(A, np.array([1] + [0] * (2 ** (n - 2) - 1)))\n",
    "\n",
    "# for no AA and no real_only: 1 ancilla qubits\n",
    "# res = np.linalg.solve(A, np.array([1] + [0] * (2 ** (n - 1) - 1)))\n",
    "\n",
    "res /= np.linalg.norm(res)\n",
    "print(f'res: {res}')"
   ]
  },
  {
   "cell_type": "code",
   "execution_count": 34,
   "metadata": {},
   "outputs": [
    {
     "name": "stdout",
     "output_type": "stream",
     "text": [
      "P: [0.50511078 0.01853426 0.46102962 0.01532535]\n",
      "Q: [0.50566578 0.01851313 0.46058362 0.01523748]\n",
      "total_variation (exact): 0.0005549936826732722\n"
     ]
    }
   ],
   "source": [
    "# Calculate total variance\n",
    "from qsvt.helper import total_variation\n",
    "\n",
    "P = np.array([mstate[i] for i in range(2 ** N)])\n",
    "P = np.array([np.linalg.norm(x)**2 for x in P])\n",
    "print(f'P: {P}')\n",
    "Q = np.array([x ** 2 for x in res])\n",
    "print(f'Q: {Q}')\n",
    "\n",
    "# print(f'kappa: {kappa}')\n",
    "print(f'total_variation (exact): {total_variation(P, Q)}')"
   ]
  },
  {
   "cell_type": "code",
   "execution_count": 35,
   "metadata": {},
   "outputs": [
    {
     "name": "stdout",
     "output_type": "stream",
     "text": [
      "time: 0.024594545364379883 sec\n"
     ]
    },
    {
     "data": {
      "image/png": "[encoded data removed]",
      "text/plain": [
       "<Figure size 700x500 with 1 Axes>"
      ]
     },
     "execution_count": 35,
     "metadata": {},
     "output_type": "execute_result"
    }
   ],
   "source": [
    "# Self-sampling (instead of running on a \"simulator backend\")\n",
    "from qiskit.visualization import plot_histogram\n",
    "\n",
    "st = time.time()\n",
    "state = Statevector(qc)\n",
    "P = np.array([np.linalg.norm(x)**2 for x in state])\n",
    "shots = 10000\n",
    "# counts = {}\n",
    "\n",
    "# print(len(state), len(list(range(2 ** N))))\n",
    "a = np.random.choice(a=list(range(2 ** n)), p=P, size=shots)\n",
    "a = np.sort(a)\n",
    "unique_elements, counts = np.unique(a, return_counts=True)\n",
    "counts = dict(zip(unique_elements, counts))\n",
    "# print(a)\n",
    "\n",
    "##### Use `Statevector()` to run 10000 shots (SLOW!!!) #####\n",
    "# for _ in range(shots):\n",
    "#     outcome, tmp_state = state.measure(list(range(n)))\n",
    "#     if counts.get(outcome) == None:\n",
    "#         counts[outcome] = 0\n",
    "#     else:\n",
    "#         counts[outcome] += 1\n",
    "\n",
    "ed = time.time()\n",
    "print(f'time: {ed - st} sec')\n",
    "plot_histogram(counts)"
   ]
  },
  {
   "cell_type": "code",
   "execution_count": 36,
   "metadata": {},
   "outputs": [
    {
     "name": "stdout",
     "output_type": "stream",
     "text": [
      "qc depth: 486\n",
      "transpilation spends: 0.11638307571411133 sec\n",
      "transpiled qc depth: 727\n",
      "run job spends: 0.0007288455963134766 sec\n"
     ]
    },
    {
     "data": {
      "image/png": "[encoded data removed]",
      "text/plain": [
       "<Figure size 700x500 with 1 Axes>"
      ]
     },
     "execution_count": 36,
     "metadata": {},
     "output_type": "execute_result"
    }
   ],
   "source": [
    "from qiskit import transpile\n",
    "from qiskit_aer import AerSimulator\n",
    "from qiskit.visualization import plot_histogram\n",
    "\n",
    "# cr = ClassicalRegister(len(measure_qubits))\n",
    "# qc.add_register(cr)\n",
    "# qc.measure(measure_qubits, cr)\n",
    "qc.measure_all()\n",
    "print(f'qc depth: {qc.depth()}')\n",
    "\n",
    "# It seems that even if 'GPU' is specified, GPU is not used at all. (2023/07)\n",
    "# Since QSVT involves large multi-qubit gates (block-encoding), \"extended_stabilizer\" is not efficient.\n",
    "# sim = AerSimulator(method='extended_stabilizer')\n",
    "sim = AerSimulator(method='statevector')\n",
    "# sim = AerSimulator(method='statevector', device='GPU')\n",
    "\n",
    "st = time.time()\n",
    "transpiled_circuit = transpile(qc, sim)\n",
    "# transpiled_circuit = transpile(qc, sim, optimization_level=3)\n",
    "ed = time.time()\n",
    "print(f'transpilation spends: {ed - st} sec')\n",
    "# transpiled_circuit = transpile(qc, sim, optimization_level=3)\n",
    "print(f'transpiled qc depth: {transpiled_circuit.depth()}')\n",
    "\n",
    "\n",
    "# run job\n",
    "shots = 10000\n",
    "st = time.time()\n",
    "job = sim.run(transpiled_circuit, shots=shots, dynamic=True, blocking_enable=True, blocking_qubits=10)\n",
    "ed = time.time()\n",
    "\n",
    "print(f'run job spends: {ed - st} sec')\n",
    "# Get the results and display them\n",
    "exp_result = job.result()\n",
    "exp_counts = exp_result.get_counts()\n",
    "plot_histogram(exp_counts)"
   ]
  },
  {
   "cell_type": "code",
   "execution_count": 37,
   "metadata": {},
   "outputs": [
    {
     "name": "stdout",
     "output_type": "stream",
     "text": [
      "success probability: 0.0156\n",
      "total_variation (exp): 0.23486352756521514\n"
     ]
    }
   ],
   "source": [
    "# Calculate total variance\n",
    "from qsvt.helper import total_variation\n",
    "\n",
    "# experiment count\n",
    "# print(f'exp_counts: {exp_counts}')\n",
    "valid_count = np.zeros(shape=(2 ** N))\n",
    "success = 0\n",
    "for data in exp_counts:\n",
    "    # print(f'data: {data[:]}')\n",
    "    if data[:2] == '00':\n",
    "        success += exp_counts[data]\n",
    "        valid_count[int(data[2:], base=2)] = exp_counts[data]\n",
    "valid_count /= shots\n",
    "valid_count /= np.linalg.norm(valid_count)\n",
    "# print(f'valid_count: {valid_count}')\n",
    "\n",
    "# Q = np.array([x ** 2 for x in res])\n",
    "# print(f'Q: {Q}')\n",
    "\n",
    "# print(f'kappa: {kappa}')\n",
    "print(f'success probability: {success / shots}')\n",
    "print(f'total_variation (exp): {total_variation(valid_count, Q)}')"
   ]
  },
  {
   "cell_type": "code",
   "execution_count": 38,
   "metadata": {},
   "outputs": [],
   "source": [
    "# # Sampler  (slow and \"quasi\")\n",
    "# from qiskit.circuit.random import random_circuit \n",
    "# from qiskit_ibm_runtime import QiskitRuntimeService, Sampler \n",
    "\n",
    "# service = QiskitRuntimeService() \n",
    "\n",
    "# # Run on a simulator\n",
    "# backend = service.get_backend(\"ibmq_qasm_simulator\")\n",
    "# # Or use the next line if you want to run on a system instead of a simulator:\n",
    "# # backend = service.least_busy(simulator=False)\n",
    "\n",
    "# # circuit = random_circuit(2, 2, seed=1234) \n",
    "# # circuit.measure_all() \n",
    "\n",
    "# sampler = Sampler(backend) \n",
    "# job = sampler.run(qc) \n",
    "# result = job.result() \n",
    "\n",
    "# print(qc) \n",
    "# print(f\" > Quasi probability distribution: {result.quasi_dists}\") \n",
    "# print(f\" > Metadata: {result.metadata}\") "
   ]
  },
  {
   "cell_type": "code",
   "execution_count": 39,
   "metadata": {},
   "outputs": [],
   "source": [
    "# # remote backend\n",
    "# from qiskit_ibm_provider import IBMProvider\n",
    "\n",
    "# hub=\"ibm-q\"; group=\"open\"; project=\"main\"\n",
    "\n",
    "# # token = 'TOKEN'\n",
    "# # IBMProvider.save_account(token)\n",
    "\n",
    "# provider = IBMProvider()\n",
    "# # This doesn't work\n",
    "# # backend_name = \"simulator_extended_stabilizer\" \n",
    "# backend_name = \"simulator_statevector\"\n",
    "# # backend_name = \"ibm_perth\"\n",
    "# provider_backend = provider.get_backend(backend_name, instance=f\"{hub}/{group}/{project}\")\n",
    "# print(provider_backend.name)"
   ]
  },
  {
   "cell_type": "code",
   "execution_count": 40,
   "metadata": {},
   "outputs": [],
   "source": [
    "# # run job remotely\n",
    "# shots = 10000\n",
    "# st = time.time()\n",
    "# transpiled_circuit = transpile(qc, provider_backend)\n",
    "# # transpiled_circuit = transpile(qc, provider_backend, optimization_level=3)\n",
    "# ed = time.time()\n",
    "# print(f'transpilation spends: {ed - st} sec')\n",
    "# print(f'transpiled qc depth: {transpiled_circuit.depth()}')\n",
    "\n",
    "# # job = provider_backend.run(transpiled_circuit, shots=shots)\n",
    "# job = provider_backend.run(qc, shots=shots)\n",
    "\n",
    "# print('job submitted!')\n",
    "\n",
    "# # Get the results and display them\n",
    "# exp_result = job.result()\n",
    "# exp_counts = exp_result.get_counts()\n",
    "# plot_histogram(exp_counts)"
   ]
  },
  {
   "cell_type": "code",
   "execution_count": 41,
   "metadata": {},
   "outputs": [],
   "source": [
    "# # Run on AWS Braket (error)\n",
    "# from qiskit_braket_provider import AWSBraketProvider\n",
    "\n",
    "# provider = AWSBraketProvider()\n",
    "\n",
    "# # devices\n",
    "# device = provider.get_backend(\"Lucy\")\n",
    "# print(device)\n",
    "\n",
    "# task = device.run(qc, shots=100)\n",
    "\n",
    "# arn = task.job_id()\n",
    "# retrieved = device.retrieve_job(job_id=arn)\n",
    "\n",
    "# print(retrieved.status())\n",
    "# plot_histogram(retrieved_job.result().get_counts())"
   ]
  },
  {
   "cell_type": "code",
   "execution_count": 42,
   "metadata": {},
   "outputs": [],
   "source": [
    "# # basis gates\n",
    "# aer_config = sim.configuration()\n",
    "# aer_basis_gates = aer_config.basis_gates\n",
    "# print(len(aer_basis_gates))\n",
    "\n",
    "# config = provider_backend.configuration()\n",
    "# basis_gates = config.basis_gates\n",
    "# print(len(basis_gates))\n",
    "\n",
    "# aer_basis_gates.sort()\n",
    "# basis_gates.sort()\n",
    "# print(aer_basis_gates)\n",
    "# print(basis_gates)\n",
    "\n",
    "# for gate in basis_gates:\n",
    "#     if gate not in aer_basis_gates:\n",
    "#         print(f'{gate} not in aerSim')\n",
    "# for gate in aer_basis_gates:\n",
    "#     if gate not in basis_gates:\n",
    "#         print(f'\"{gate}\" not in Sim')"
   ]
  }
 ],
 "metadata": {
  "kernelspec": {
   "display_name": "Python 3 (ipykernel)",
   "language": "python",
   "name": "python3"
  },
  "language_info": {
   "codemirror_mode": {
    "name": "ipython",
    "version": 3
   },
   "file_extension": ".py",
   "mimetype": "text/x-python",
   "name": "python",
   "nbconvert_exporter": "python",
   "pygments_lexer": "ipython3",
   "version": "3.10.12"
  }
 },
 "nbformat": 4,
 "nbformat_minor": 4
}
