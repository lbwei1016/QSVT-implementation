{
 "cells": [
  {
   "cell_type": "markdown",
   "metadata": {},
   "source": [
    "$$\n",
    "A^{-1}|b\\rangle/\\|A^{-1}|b\\rangle\\| = \\lambda|b\\rangle/\\|\\lambda|b\\rangle\\| = \\lambda|b\\rangle/|\\lambda| == |b\\rangle\n",
    "$$"
   ]
  },
  {
   "cell_type": "code",
   "execution_count": 112,
   "metadata": {},
   "outputs": [],
   "source": [
    "from qiskit.quantum_info import Statevector\n",
    "from qiskit import QuantumCircuit\n",
    "from qsvt.algorithms import linear_solver\n",
    "from qsvt.helper import circulant_matrix\n",
    "import numpy as np\n",
    "\n",
    "from qiskit.circuit.library import StatePreparation\n",
    "\n",
    "import time\n",
    "\n",
    "# matrix size exponent\n",
    "N = 3"
   ]
  },
  {
   "cell_type": "code",
   "execution_count": 113,
   "metadata": {},
   "outputs": [
    {
     "name": "stdout",
     "output_type": "stream",
     "text": [
      "[-0.45629895+0.01256158j -0.45629895-0.01256158j -0.02279149+0.18912331j\n",
      " -0.02279149-0.18912331j  0.47877364+0.00729621j  0.47877364-0.00729621j\n",
      "  0.16946961+0.j          0.15302934+0.j        ]\n",
      "[ 1.82504369e-15+3.53553391e-01j  1.82504369e-15-3.53553391e-01j\n",
      "  2.50000000e-01+2.50000000e-01j  2.50000000e-01-2.50000000e-01j\n",
      " -3.53553391e-01+3.05563644e-18j -3.53553391e-01-3.05563644e-18j\n",
      " -3.53553391e-01+0.00000000e+00j  3.53553391e-01+0.00000000e+00j]\n"
     ]
    }
   ],
   "source": [
    "A = circulant_matrix(N)\n",
    "A /= np.linalg.norm(A)\n",
    "\n",
    "eigvals, eigvecs = np.linalg.eig(A)\n",
    "eigvec = eigvecs[1]\n",
    "print(eigvals)\n",
    "print(eigvec)\n",
    "\n",
    "# A = np.array([\n",
    "#     [1, 0],\n",
    "#     [0, np.e ** (2 * np.pi * 1j * (2/7))]\n",
    "# ])\n",
    "# A /= np.linalg.norm(A)\n",
    "# eigval: [1, np.e ** (2 * np.pi * 1j * (2/7))]\n",
    "# eigvec: [1, 0], [0, 1]"
   ]
  },
  {
   "cell_type": "code",
   "execution_count": 114,
   "metadata": {},
   "outputs": [
    {
     "name": "stdout",
     "output_type": "stream",
     "text": [
      "Instruction(name='state_preparation', num_qubits=3, num_clbits=0, params=[(1.8250436898211537e-15+0.35355339059327334j), (1.8250436898211537e-15-0.35355339059327334j), (0.2500000000000003+0.25j), (0.2500000000000003-0.25j), (-0.3535533905932745+3.0556364358281653e-18j), (-0.3535533905932745-3.0556364358281653e-18j), (-0.35355339059327384+0j), (0.35355339059327295+0j)])\n",
      "deg: 121\n"
     ]
    },
    {
     "data": {
      "text/plain": [
       "<qiskit.circuit.instructionset.InstructionSet at 0x7fbf8dde4700>"
      ]
     },
     "execution_count": 114,
     "metadata": {},
     "output_type": "execute_result"
    }
   ],
   "source": [
    "# print(np.absolute(eigvec))\n",
    "ss = StatePreparation(eigvec)\n",
    "print(ss)\n",
    "\n",
    "qc = QuantumCircuit(N + 2)\n",
    "qc.append(ss, qargs=list(range(N)))\n",
    "# qc.x(0)\n",
    "qc0 = linear_solver(A)\n",
    "qc.append(qc0, qargs=list(range(N + 2)))\n",
    "# qc.draw('mpl')"
   ]
  },
  {
   "cell_type": "code",
   "execution_count": 115,
   "metadata": {},
   "outputs": [
    {
     "name": "stdout",
     "output_type": "stream",
     "text": [
      "number of qubits: 5\n",
      "post-measurement state: Statevector([ 0.18008231-0.00762169j, -0.44454578+0.10786179j,\n",
      "              0.11365226-0.31635955j,  0.12531105+0.51248312j,\n",
      "              0.08227418-0.39863204j,  0.01995893+0.2968728j ,\n",
      "              0.29596844-0.14355794j, -0.04352974-0.05104649j,\n",
      "              0.        +0.j        ,  0.        +0.j        ,\n",
      "              0.        +0.j        ,  0.        +0.j        ,\n",
      "              0.        +0.j        ,  0.        +0.j        ,\n",
      "              0.        +0.j        ,  0.        +0.j        ,\n",
      "              0.        +0.j        ,  0.        +0.j        ,\n",
      "              0.        +0.j        ,  0.        +0.j        ,\n",
      "              0.        +0.j        ,  0.        +0.j        ,\n",
      "              0.        +0.j        ,  0.        +0.j        ,\n",
      "              0.        +0.j        ,  0.        +0.j        ,\n",
      "              0.        +0.j        ,  0.        +0.j        ,\n",
      "              0.        +0.j        ,  0.        +0.j        ,\n",
      "              0.        +0.j        ,  0.        +0.j        ],\n",
      "            dims=(2, 2, 2, 2, 2))\n",
      "post-selection spends: 0.002033710479736328 sec\n",
      "res: [-0.18018299+0.00762148j  0.44442133-0.10789814j -0.11372343+0.31640262j\n",
      " -0.12525361-0.51248792j -0.08224386+0.39870001j -0.01991392-0.29690485j\n",
      " -0.2959059 +0.14356013j  0.04360515+0.05100666j]\n"
     ]
    }
   ],
   "source": [
    "state = Statevector(qc)\n",
    "\n",
    "n = qc.num_qubits\n",
    "print(f'number of qubits: {n}')\n",
    "\n",
    "# for AA\n",
    "# measure_qubits = [n - 3, n - 2]\n",
    "# exp_outcome = \"00\"\n",
    "\n",
    "# for no AA\n",
    "measure_qubits = [n - 2, n - 1]\n",
    "exp_outcome = \"00\"\n",
    "\n",
    "# for no AA and no real_only\n",
    "# measure_qubits = [n - 1]\n",
    "# exp_outcome = \"0\"\n",
    "\n",
    "st = time.time()\n",
    "while True:\n",
    "    outcome, mstate = state.measure(measure_qubits)\n",
    "    if outcome == exp_outcome: break\n",
    "ed = time.time()\n",
    "print(f'post-measurement state: {mstate}')\n",
    "print(f'post-selection spends: {ed - st} sec')\n",
    "\n",
    "\n",
    "# # for AA: 3 ancilla qubits\n",
    "# res = np.linalg.solve(A, np.array([1] + [0] * (2 ** (n - 3) - 1)))\n",
    "\n",
    "# for no AA: 2 ancilla qubits\n",
    "# res = np.linalg.solve(A, np.array([1] + [0] * (2 ** (n - 2) - 1)))\n",
    "res = np.linalg.solve(A, np.array(eigvec))\n",
    "\n",
    "# for no AA and no real_only: 1 ancilla qubits\n",
    "# res = np.linalg.solve(A, np.array([1] + [0] * (2 ** (n - 1) - 1)))\n",
    "\n",
    "res /= np.linalg.norm(res)\n",
    "print(f'res: {res}')"
   ]
  }
 ],
 "metadata": {
  "kernelspec": {
   "display_name": "Python 3",
   "language": "python",
   "name": "python3"
  },
  "language_info": {
   "codemirror_mode": {
    "name": "ipython",
    "version": 3
   },
   "file_extension": ".py",
   "mimetype": "text/x-python",
   "name": "python",
   "nbconvert_exporter": "python",
   "pygments_lexer": "ipython3",
   "version": "3.10.12"
  },
  "orig_nbformat": 4
 },
 "nbformat": 4,
 "nbformat_minor": 2
}
